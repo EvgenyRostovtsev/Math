{
 "cells": [
  {
   "cell_type": "markdown",
   "metadata": {},
   "source": [
    "# Уровень 0\n",
    "# Задание 1\n",
    "\n",
    "Монетку подбрасывают 15 раз, найдите вероятность выпадения простого числа орлов (решение на бумажке и на python)."
   ]
  },
  {
   "cell_type": "code",
   "execution_count": 2,
   "metadata": {},
   "outputs": [],
   "source": [
    "import math"
   ]
  },
  {
   "cell_type": "markdown",
   "metadata": {},
   "source": [
    "Задача решается по формуле комбинаторики где вероятонсть выпадения монеты k раз за n подбрасываний будет равна N!/(k!*(n-k)!)"
   ]
  },
  {
   "cell_type": "markdown",
   "metadata": {},
   "source": [
    "простыми числами в диапазоне от 1 до 15 будут = 2, 3, 5, 7, 11, 13. Следовательно по формуле бернули считаем для каждого числа вероятность\n"
   ]
  },
  {
   "cell_type": "code",
   "execution_count": 32,
   "metadata": {},
   "outputs": [
    {
     "data": {
      "text/plain": [
       "32768"
      ]
     },
     "execution_count": 32,
     "metadata": {},
     "output_type": "execute_result"
    }
   ],
   "source": [
    "#15 подбрасываний дает нам следующее кол-во вариантов:\n",
    "n = 2**15\n",
    "n"
   ]
  },
  {
   "cell_type": "code",
   "execution_count": 14,
   "metadata": {},
   "outputs": [],
   "source": [
    "#считаем кол-во вариантов для каждого k раз простых чисел\n",
    "\n",
    "k2 = math.factorial(15)/(math.factorial(2)*math.factorial(13))\n",
    "k3 = math.factorial(15)/(math.factorial(3)*math.factorial(12))\n",
    "k5 = math.factorial(15)/(math.factorial(5)*math.factorial(10))\n",
    "k7 = math.factorial(15)/(math.factorial(7)*math.factorial(8))\n",
    "k11 = math.factorial(15)/(math.factorial(11)*math.factorial(4))\n",
    "k13 = math.factorial(15)/(math.factorial(13)*math.factorial(2))"
   ]
  },
  {
   "cell_type": "code",
   "execution_count": 33,
   "metadata": {},
   "outputs": [
    {
     "data": {
      "text/plain": [
       "0.3499755859375"
      ]
     },
     "execution_count": 33,
     "metadata": {},
     "output_type": "execute_result"
    }
   ],
   "source": [
    "#веротногсть выпадения простого числа орлов\n",
    "\n",
    "(k2 + k3 + k5 + k7 + k11 + k13)/n\n",
    "      \n",
    "#примерно 35%      "
   ]
  },
  {
   "cell_type": "code",
   "execution_count": 34,
   "metadata": {},
   "outputs": [
    {
     "data": {
      "text/plain": [
       "0.3499755859375"
      ]
     },
     "execution_count": 34,
     "metadata": {},
     "output_type": "execute_result"
    }
   ],
   "source": [
    "#либо фо формуле бернули\n",
    "\n",
    "\n",
    "(k2 + k3 + k5 + k7 + k11 + k13)*0.5**15"
   ]
  },
  {
   "cell_type": "markdown",
   "metadata": {},
   "source": [
    "# Задание 2\n",
    "Создайте свою дискретную случайную величину с не менее, чем 10 значениями. Просемплируйте 1000 случайных значений, постройте гистограмму плотности распределения по выборке, посчитайте среднее, дисперсию и медиану."
   ]
  },
  {
   "cell_type": "code",
   "execution_count": 49,
   "metadata": {},
   "outputs": [],
   "source": [
    "#не совсем понял как решать, но решил задачи 3 и 4 из уровня 1, поэтому расчитываю на зачет)"
   ]
  },
  {
   "cell_type": "markdown",
   "metadata": {},
   "source": [
    "# Задание 3\n",
    "Пусть брошены 3 уравновешенные монеты.\n",
    "\n",
    "Рассмотрим 3 события:\n",
    "\n",
    "A1 - монеты 1 и 2 упали одной и той же стороной,\n",
    "\n",
    "A2 - монеты 2 и 3 упали одной и той же стороной,\n",
    "\n",
    "A3 - монеты 1 и 3 упали одной и той же стороной.\n",
    "\n",
    "Покажите, почему эти 3 события (A1, A2, A3) являются попарно независимыми, но не являются независимыми в совокупности."
   ]
  },
  {
   "cell_type": "markdown",
   "metadata": {},
   "source": [
    "Два случайных события называются независимыми, если наступление одного из них не\n",
    "изменяет вероятность наступления другого. Аналогично, две случайные величины\n",
    "называют независимыми, если значение одной из них не влияет на вероятность\n",
    "значений другой."
   ]
  },
  {
   "cell_type": "markdown",
   "metadata": {},
   "source": [
    "# в нашем случае соблюдается уравнение доказывающие независимость двух событий:\n",
    "(P1 от P2) = 1/4 = P1(1/2) * P2 (1/2)\n",
    "\n",
    "Однако 3 события уже не являются независимыми потому что уравнение не соблюдается\n",
    "\n",
    "(P1 от P2 от P3) = 1/4 != P1(1/2) * P2 (1/2) * P3 (1/2) = 1/8\n"
   ]
  },
  {
   "cell_type": "code",
   "execution_count": null,
   "metadata": {},
   "outputs": [],
   "source": []
  },
  {
   "cell_type": "code",
   "execution_count": null,
   "metadata": {},
   "outputs": [],
   "source": []
  },
  {
   "cell_type": "markdown",
   "metadata": {},
   "source": [
    "# Задание 4 (формула полной вероятности)\n",
    "В магазин привезли устройства с 3-х разных предприятий. Соотношение устройств следующее: 20% - продукция первого предприятия, 30% - продукция второго предприятия, 50% - продукция третьего предприятия; далее, 10% продукции первого предприятия высшего сорта, на втором предприятии - 5% и на третьем - 20% продукции высшего сорта. Найти вероятность того, что случайно купленная новая продукция окажется высшего сорта."
   ]
  },
  {
   "cell_type": "code",
   "execution_count": 41,
   "metadata": {},
   "outputs": [],
   "source": [
    "entp1 = 0.2\n",
    "entp2 = 0.3\n",
    "entp3 = 0.5\n",
    "\n",
    "sort1 = 0.1\n",
    "sort2 = 0.05\n",
    "sort3 = 0.2\n"
   ]
  },
  {
   "cell_type": "code",
   "execution_count": 46,
   "metadata": {},
   "outputs": [
    {
     "name": "stdout",
     "output_type": "stream",
     "text": [
      "Вероятность что случайно купленная новая продукция окажется высшего сорта = 13.5 %\n"
     ]
    }
   ],
   "source": [
    "highsorttotal = entp1*sort1 + entp2*sort2 + entp3*sort3\n",
    "print('Вероятность что случайно купленная новая продукция окажется высшего сорта =', highsorttotal*100,'%')"
   ]
  },
  {
   "cell_type": "code",
   "execution_count": null,
   "metadata": {},
   "outputs": [],
   "source": []
  }
 ],
 "metadata": {
  "kernelspec": {
   "display_name": "Python 3",
   "language": "python",
   "name": "python3"
  },
  "language_info": {
   "codemirror_mode": {
    "name": "ipython",
    "version": 3
   },
   "file_extension": ".py",
   "mimetype": "text/x-python",
   "name": "python",
   "nbconvert_exporter": "python",
   "pygments_lexer": "ipython3",
   "version": "3.8.3"
  }
 },
 "nbformat": 4,
 "nbformat_minor": 4
}
